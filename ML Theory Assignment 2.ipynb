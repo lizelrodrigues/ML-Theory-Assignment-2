{
 "cells": [
  {
   "cell_type": "code",
   "execution_count": null,
   "id": "2c839213",
   "metadata": {},
   "outputs": [],
   "source": [
    "#ML Theory Assignment 2"
   ]
  },
  {
   "cell_type": "markdown",
   "id": "31a7f2d6",
   "metadata": {},
   "source": [
    "1.What is the concept of human learning? Please give two examples."
   ]
  },
  {
   "cell_type": "code",
   "execution_count": null,
   "id": "0a5d911d",
   "metadata": {},
   "outputs": [],
   "source": [
    "# Human Learning concept includes processes like thinking, reasoning, intelligence, etc.\n",
    "# eg. we see a cat and attach the term \"cat\"\n",
    "# eg. we react in certain way according to the condition."
   ]
  },
  {
   "cell_type": "markdown",
   "id": "89edfae0",
   "metadata": {},
   "source": [
    "2.What different forms of human learning are there? Are there any machine learning equivalents?"
   ]
  },
  {
   "cell_type": "code",
   "execution_count": null,
   "id": "388a4f09",
   "metadata": {},
   "outputs": [],
   "source": [
    "# There are three main types of learning: classical conditioning, operant conditioning, and observational learning.\n",
    "# Both humans and machines make errors while using their intelligence during problem solving. "
   ]
  },
  {
   "cell_type": "markdown",
   "id": "91a42cb5",
   "metadata": {},
   "source": [
    "3.What is machine learning, and how does it work? What are the key responsibilities of machine\n",
    "learning?"
   ]
  },
  {
   "cell_type": "code",
   "execution_count": null,
   "id": "2cde83b8",
   "metadata": {},
   "outputs": [],
   "source": [
    "# Machine learning (ML) is a type of artificial intelligence (AI) that allows software applications to become more accurate \n",
    "# at predicting outcomes without being explicitly programmed to do so. \n",
    "# Machine learning algorithms use historical data as input to predict new output values.\n",
    "# A machine learning (ML) developer is an expert on using data to training models. \n",
    "# The models are then used to automate processes like image classification, speech recognition, and market forecasting"
   ]
  },
  {
   "cell_type": "markdown",
   "id": "13daecef",
   "metadata": {},
   "source": [
    "4.Define the terms \"penalty\" and \"reward\" in the context of reinforcement learning."
   ]
  },
  {
   "cell_type": "code",
   "execution_count": null,
   "id": "d440ea2c",
   "metadata": {},
   "outputs": [],
   "source": [
    "# In Reinforcement Learning (RL), agents are trained on a reward and punishment mechanism. \n",
    "# The agent is rewarded for correct moves and punished for the wrong ones. \n",
    "# In doing so, the agent tries to minimize wrong moves and maximize the right ones."
   ]
  },
  {
   "cell_type": "markdown",
   "id": "38d4b9cd",
   "metadata": {},
   "source": [
    "5.Explain the term \"learning as a search\"?"
   ]
  },
  {
   "cell_type": "code",
   "execution_count": null,
   "id": "af52be02",
   "metadata": {},
   "outputs": [],
   "source": [
    "# Learning can be viewed as a search through the space of all sentences in a concept description language for a sentence \n",
    "# that best describes the data. \n",
    "# Alternatively, it can be viewed as a search through all hypotheses in a hypothesis space."
   ]
  },
  {
   "cell_type": "markdown",
   "id": "5b9c109a",
   "metadata": {},
   "source": [
    "6.What are the various goals of machine learning? What is the relationship between these and\n",
    "human learning?"
   ]
  },
  {
   "cell_type": "code",
   "execution_count": null,
   "id": "ab702831",
   "metadata": {},
   "outputs": [],
   "source": [
    "# The goal and usage of machine learning is to build new and/or leverage existing algorithms to learn from data, in order to \n",
    "# build generalizable models that give accurate predictions, or to find patterns, particularly with new and unseen similar data.\n",
    "# ML and Human learnings are similar both gain knowledge from previous experiences/data.\n"
   ]
  },
  {
   "cell_type": "markdown",
   "id": "4f32725d",
   "metadata": {},
   "source": [
    "7.Illustrate the various elements of machine learning using a real-life illustration."
   ]
  },
  {
   "cell_type": "code",
   "execution_count": null,
   "id": "f00569f2",
   "metadata": {},
   "outputs": [],
   "source": [
    "# There are three types of machine learning: supervised learning, unsupervised learning, and reinforcement learning.\n",
    "# Machine learning has been used in multiple fields and industries.\n",
    "# Some real-life illustration of ML are medical diagnosis, image processing, prediction, classification, learning association, \n",
    "# regression etc."
   ]
  },
  {
   "cell_type": "markdown",
   "id": "8cafd846",
   "metadata": {},
   "source": [
    "8.Provide an example of the abstraction method."
   ]
  },
  {
   "cell_type": "code",
   "execution_count": null,
   "id": "d1106b8c",
   "metadata": {},
   "outputs": [],
   "source": [
    "# Abstraction is defined as dealing with ideas instead of events. \n",
    "# In the context of AI, that means worrying more about what the right algorithm is and less about how to implement it. "
   ]
  },
  {
   "cell_type": "markdown",
   "id": "20c9569a",
   "metadata": {},
   "source": [
    "9.What is the concept of generalization? What function does it play in the machine learning\n",
    "process?"
   ]
  },
  {
   "cell_type": "code",
   "execution_count": null,
   "id": "a49f5857",
   "metadata": {},
   "outputs": [],
   "source": [
    "# Generalization refers to your model's ability to adapt properly to new, previously unseen data, drawn from same distribution \n",
    "# as the one used to create the model. \n",
    "# Develop intuition about overfitting. \n",
    "# Determine whether a model is good or not. \n",
    "# Divide a data set into a training set and a test set."
   ]
  },
  {
   "cell_type": "markdown",
   "id": "3368709e",
   "metadata": {},
   "source": [
    "10.What is classification, exactly? What are the main distinctions between classification and regression?"
   ]
  },
  {
   "cell_type": "code",
   "execution_count": null,
   "id": "0e7078dc",
   "metadata": {},
   "outputs": [],
   "source": [
    "# Classification is the task of predicting a discrete class label. \n",
    "# Regression is the task of predicting a continuous quantity."
   ]
  },
  {
   "cell_type": "markdown",
   "id": "3bc72476",
   "metadata": {},
   "source": [
    "11.What is regression, and how does it work? Give an example of a real-world problem that was solved using regression."
   ]
  },
  {
   "cell_type": "code",
   "execution_count": null,
   "id": "d1f3e2e2",
   "metadata": {},
   "outputs": [],
   "source": [
    "# Regression is a statistical method that attempts to determine the strength and character of the relationship between one \n",
    "# dependent variable (usually denoted by Y) and a series of other variables (known as independent variables).\n",
    "# A simple linear regression real life example could mean you finding a relationship between the revenue and \n",
    "# temperature, with a sample size for revenue as the dependent variable. In case of multiple variable regression,\n",
    "# you can find the relationship between temperature, pricing and number of workers to the revenue."
   ]
  },
  {
   "cell_type": "markdown",
   "id": "a3e3bb62",
   "metadata": {},
   "source": [
    "12.Describe the clustering mechanism in detail."
   ]
  },
  {
   "cell_type": "code",
   "execution_count": null,
   "id": "a40058db",
   "metadata": {},
   "outputs": [],
   "source": [
    "# Clustering is the task of dividing the population or data points into a number of groups such that data points in\n",
    "# the same groups are more similar to other data points in the same group than those in other groups.\n",
    "# In simple words, the aim is to segregate groups with similar traits and assign them into clusters."
   ]
  },
  {
   "cell_type": "markdown",
   "id": "bda3c1c4",
   "metadata": {},
   "source": [
    "13.Make brief observations on two of the following topics:\n",
    "i.  Machine learning algorithms are used\n",
    "ii. Studying under supervision\n",
    "iii.Studying without supervision\n",
    "iv. Reinforcement learning is a form of learning based on positive reinforcement."
   ]
  },
  {
   "cell_type": "code",
   "execution_count": null,
   "id": "d3bd9498",
   "metadata": {},
   "outputs": [],
   "source": [
    "# Supervised learning- Supervised learning, also known as supervised machine learning, is a subcategory of machine \n",
    "# learning and artificial intelligence. It is defined by its use of labeled datasets to train algorithms that to \n",
    "# classify data or predict outcomes accurately.\n",
    "\n",
    "\n",
    "# Unsupervised learning- Unsupervised learning, also known as unsupervised machine learning, uses machine learning\n",
    "# algorithms to analyze and cluster unlabeled datasets. These algorithms discover hidden patterns or data groupings\n",
    "# without the need for human intervention.\n",
    "\n",
    "# Reinforcement learning is a form of learning based on positive reinforcement- Reinforcement learning is a machine\n",
    "# learning training method based on rewarding desired behaviors and/or punishing undesired ones. In general, a \n",
    "# reinforcement learning agent is able to perceive and interpret its environment, take actions and learn through \n",
    "# trial and error."
   ]
  }
 ],
 "metadata": {
  "kernelspec": {
   "display_name": "Python 3 (ipykernel)",
   "language": "python",
   "name": "python3"
  },
  "language_info": {
   "codemirror_mode": {
    "name": "ipython",
    "version": 3
   },
   "file_extension": ".py",
   "mimetype": "text/x-python",
   "name": "python",
   "nbconvert_exporter": "python",
   "pygments_lexer": "ipython3",
   "version": "3.9.7"
  }
 },
 "nbformat": 4,
 "nbformat_minor": 5
}
